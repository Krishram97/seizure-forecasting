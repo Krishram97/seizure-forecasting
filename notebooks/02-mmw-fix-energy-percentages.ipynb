{
 "cells": [
  {
   "cell_type": "markdown",
   "metadata": {},
   "source": [
    "Objective of this notebook: let me figure out what went wrong with the energy percentage calculating code that ended up putting nearly all the energy in the delta band and no energy anywhere else."
   ]
  },
  {
   "cell_type": "code",
   "execution_count": 15,
   "metadata": {},
   "outputs": [],
   "source": [
    "import numpy as np\n",
    "import matplotlib.pyplot as plt\n",
    "tau = 2 * np.pi\n",
    "SAMPLE_RATE = 256"
   ]
  },
  {
   "cell_type": "code",
   "execution_count": 8,
   "metadata": {},
   "outputs": [],
   "source": [
    "# Create some synthetic signals to start the debug process\n",
    "def make_signal(freq):\n",
    "    return np.sin(np.linspace(0, 5 * tau * freq, 1280))\n",
    "signal_delta_only = make_signal(2)\n",
    "signal_theta_only = make_signal(5)\n",
    "signal_alpha_only = make_signal(10)\n",
    "signal_beta_only = make_signal(20)\n",
    "signal_logamma_only = make_signal(50)\n",
    "signal_higamma_only = make_signal(100)"
   ]
  },
  {
   "cell_type": "code",
   "execution_count": 22,
   "metadata": {},
   "outputs": [],
   "source": [
    "def energy_percentages(signal):\n",
    "    \"\"\"\n",
    "    Calculate the percent of energy in various frequency bands. Those bands are:\n",
    "\n",
    "    * Delta (<= 3 Hz)\n",
    "    * Theta (4-7 Hz)\n",
    "    * Alpha (8-13 Hz)\n",
    "    * Beta (14-30 Hz)\n",
    "    * Lower Gamma (30-55 Hz)\n",
    "    * Higher Gamma (65-110 Hz)\n",
    "    \"\"\"\n",
    "    padded = np.array([0] * 100 + list(signal) + [0] * 100)\n",
    "    freqs = np.fft.rfftfreq(len(padded)) * SAMPLE_RATE\n",
    "    fft = np.abs(np.fft.rfft(padded))\n",
    "    overall = np.trapz(fft, freqs)\n",
    "    delta = band_energy(fft, freqs, 0, 3)\n",
    "    theta = band_energy(fft, freqs, 4, 7)\n",
    "    alpha = band_energy(fft, freqs, 8, 13)\n",
    "    beta = band_energy(fft, freqs, 14, 30)\n",
    "    gamma1 = band_energy(fft, freqs, 30, 55)\n",
    "    gamma2 = band_energy(fft, freqs, 65, 110)\n",
    "    return np.array([delta, theta, alpha, beta, gamma1, gamma2]) / overall"
   ]
  },
  {
   "cell_type": "code",
   "execution_count": 21,
   "metadata": {},
   "outputs": [
    {
     "data": {
      "text/plain": [
       "[<matplotlib.lines.Line2D at 0x7fc56c73a748>]"
      ]
     },
     "execution_count": 21,
     "metadata": {},
     "output_type": "execute_result"
    },
    {
     "data": {
      "image/png": "[encoded data removed]",
      "text/plain": [
       "<Figure size 432x288 with 1 Axes>"
      ]
     },
     "metadata": {
      "needs_background": "light"
     },
     "output_type": "display_data"
    }
   ],
   "source": [
    "padded = np.array([0] * 100 + list(signal_alpha_only) + [0] * 100)\n",
    "freqs = np.fft.rfftfreq(len(padded)) * SAMPLE_RATE\n",
    "fft = np.abs(np.fft.rfft(padded))\n",
    "plt.plot(freqs, fft)"
   ]
  },
  {
   "cell_type": "code",
   "execution_count": 40,
   "metadata": {},
   "outputs": [
    {
     "data": {
      "image/png": "[encoded data removed]",
      "text/plain": [
       "<Figure size 432x288 with 1 Axes>"
      ]
     },
     "metadata": {
      "needs_background": "light"
     },
     "output_type": "display_data"
    }
   ],
   "source": [
    "plt.bar(range(6), energy_percentages(signal_alpha_only),\n",
    "        tick_label=['delta', 'theta', 'alpha', 'beta', 'logamma', 'higamma'])\n",
    "plt.show()"
   ]
  }
 ],
 "metadata": {
  "kernelspec": {
   "display_name": "Python 3",
   "language": "python",
   "name": "python3"
  },
  "language_info": {
   "codemirror_mode": {
    "name": "ipython",
    "version": 3
   },
   "file_extension": ".py",
   "mimetype": "text/x-python",
   "name": "python",
   "nbconvert_exporter": "python",
   "pygments_lexer": "ipython3",
   "version": "3.7.2"
  }
 },
 "nbformat": 4,
 "nbformat_minor": 2
}
